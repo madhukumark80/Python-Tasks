{
 "cells": [
  {
   "cell_type": "code",
   "execution_count": 1,
   "metadata": {},
   "outputs": [],
   "source": [
    "PropertyPrice = [150000, 225000, 190000, 275000, 300000, 250000, 330000, 180000, 350000, 400000]\n",
    "DownPayment = [40000, 80000, 50000, 50000, 75000, 60000, 85000, 40000, 90000, 100000]\n",
    "MortgageAmt = [100000, 100000, 150000, 200000, 250000, 200000, 300000, 60000, 300000, 350000]"
   ]
  },
  {
   "cell_type": "code",
   "execution_count": 3,
   "metadata": {},
   "outputs": [],
   "source": [
    "import math"
   ]
  },
  {
   "cell_type": "code",
   "execution_count": 4,
   "metadata": {},
   "outputs": [
    {
     "name": "stdout",
     "output_type": "stream",
     "text": [
      "67\n",
      "45\n",
      "79\n",
      "73\n",
      "84\n",
      "80\n",
      "91\n",
      "34\n",
      "86\n",
      "88\n"
     ]
    }
   ],
   "source": [
    "## Function to calculate 'LTV'\n",
    "def LTV(MortgageAmt, PropertyPrice):\n",
    "    LTV = math.ceil(MortgageAmt/PropertyPrice * 100)\n",
    "    print(LTV)\n",
    "LTV(100000, 150000)    \n",
    "LTV(100000, 225000)\n",
    "LTV(150000, 190000)\n",
    "LTV(200000, 275000)\n",
    "LTV(250000, 300000)\n",
    "LTV(200000, 250000)\n",
    "LTV(300000, 330000)        \n",
    "LTV(60000, 180000)\n",
    "LTV(300000, 350000)\n",
    "LTV(350000, 400000)"
   ]
  },
  {
   "cell_type": "code",
   "execution_count": 5,
   "metadata": {},
   "outputs": [
    {
     "name": "stdout",
     "output_type": "stream",
     "text": [
      "Medium\n",
      "Low\n",
      "Medium\n",
      "Medium\n",
      "High\n",
      "Medium\n",
      "High\n",
      "Very Low\n",
      "High\n",
      "High\n"
     ]
    }
   ],
   "source": [
    "## Function to Calcualte 'Rating'\n",
    "def rating(LTV):\n",
    "    if LTV > 80:\n",
    "        print(\"High\")\n",
    "    elif 60 <= LTV <=80:\n",
    "        print(\"Medium\")\n",
    "    elif 40 <= LTV <=59:\n",
    "        print(\"Low\")\n",
    "    elif LTV < 40:\n",
    "        print(\"Very Low\")\n",
    "rating(67)\n",
    "rating(45)\n",
    "rating(79)\n",
    "rating(73)\n",
    "rating(84)\n",
    "rating(80)\n",
    "rating(91)\n",
    "rating(34)\n",
    "rating(86)\n",
    "rating(88)"
   ]
  },
  {
   "cell_type": "code",
   "execution_count": 6,
   "metadata": {},
   "outputs": [
    {
     "name": "stdout",
     "output_type": "stream",
     "text": [
      "Extra fee is 8%\n",
      "Extra fee is 6%\n",
      "Extra fee is 8%\n",
      "Extra fee is 8%\n",
      "Extra fee is 10%\n",
      "Extra fee is 8%\n",
      "Extra fee is 10%\n",
      "Extra fee is 4%\n",
      "Extra fee is 10%\n",
      "Extra fee is 10%\n"
     ]
    }
   ],
   "source": [
    "## Function to define 'Extrafee'\n",
    "def Extrafee(rating):\n",
    "    if rating == \"High\":\n",
    "        print(\"Extra fee is 10%\")\n",
    "    elif rating == \"Medium\":\n",
    "        print(\"Extra fee is 8%\")\n",
    "    elif rating == \"Low\":\n",
    "        print(\"Extra fee is 6%\")\n",
    "    elif rating == \"Very Low\":\n",
    "        print(\"Extra fee is 4%\")\n",
    "Extrafee(\"Medium\")\n",
    "Extrafee(\"Low\")\n",
    "Extrafee(\"Medium\")\n",
    "Extrafee(\"Medium\")\n",
    "Extrafee(\"High\")\n",
    "Extrafee(\"Medium\")\n",
    "Extrafee(\"High\")\n",
    "Extrafee(\"Very Low\")\n",
    "Extrafee(\"High\")\n",
    "Extrafee(\"High\")"
   ]
  },
  {
   "cell_type": "code",
   "execution_count": null,
   "metadata": {},
   "outputs": [],
   "source": []
  }
 ],
 "metadata": {
  "kernelspec": {
   "display_name": "Python 3",
   "language": "python",
   "name": "python3"
  },
  "language_info": {
   "codemirror_mode": {
    "name": "ipython",
    "version": 3
   },
   "file_extension": ".py",
   "mimetype": "text/x-python",
   "name": "python",
   "nbconvert_exporter": "python",
   "pygments_lexer": "ipython3",
   "version": "3.7.0"
  }
 },
 "nbformat": 4,
 "nbformat_minor": 2
}
